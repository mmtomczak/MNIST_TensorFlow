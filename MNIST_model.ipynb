{
 "cells": [
  {
   "cell_type": "markdown",
   "source": [
    "# Import packages"
   ],
   "metadata": {
    "collapsed": false
   },
   "id": "c244178fe6c6daca"
  },
  {
   "cell_type": "code",
   "execution_count": 1,
   "outputs": [],
   "source": [
    "import tensorflow as tf"
   ],
   "metadata": {
    "collapsed": false,
    "ExecuteTime": {
     "end_time": "2023-09-06T12:28:51.440202Z",
     "start_time": "2023-09-06T12:28:48.537857700Z"
    }
   },
   "id": "ff1a2ee0f8bcde4d"
  },
  {
   "cell_type": "markdown",
   "source": [
    "# Data"
   ],
   "metadata": {
    "collapsed": false
   },
   "id": "6dc2e86f4b3789ed"
  },
  {
   "cell_type": "code",
   "execution_count": 2,
   "outputs": [],
   "source": [
    "# Get data from keras datasets\n",
    "(x_train, y_train), (x_test, y_test) = tf.keras.datasets.mnist.load_data()"
   ],
   "metadata": {
    "collapsed": false,
    "ExecuteTime": {
     "end_time": "2023-09-06T12:28:51.816984500Z",
     "start_time": "2023-09-06T12:28:51.428175300Z"
    }
   },
   "id": "ff0d1b8a899e143e"
  },
  {
   "cell_type": "code",
   "execution_count": 3,
   "outputs": [
    {
     "data": {
      "text/plain": "<tf.Tensor: shape=(), dtype=int32, numpy=6000>"
     },
     "execution_count": 3,
     "metadata": {},
     "output_type": "execute_result"
    }
   ],
   "source": [
    "# Set the number of observations that will be used as validation set\n",
    "num_validation_set = tf.cast(len(x_train) * 0.1, dtype=tf.int32)\n",
    "num_validation_set"
   ],
   "metadata": {
    "collapsed": false,
    "ExecuteTime": {
     "end_time": "2023-09-06T12:28:51.925270700Z",
     "start_time": "2023-09-06T12:28:51.817988Z"
    }
   },
   "id": "6d0f40d41738af20"
  },
  {
   "cell_type": "code",
   "execution_count": 4,
   "outputs": [],
   "source": [
    "# Create variables for validation set\n",
    "x_validation = x_train[:num_validation_set]\n",
    "y_validation = y_train[:num_validation_set]\n",
    "\n",
    "# Exclude validation set from train sets\n",
    "x_train = x_train[num_validation_set:]\n",
    "y_train = y_train[num_validation_set:]"
   ],
   "metadata": {
    "collapsed": false,
    "ExecuteTime": {
     "end_time": "2023-09-06T12:28:51.939856600Z",
     "start_time": "2023-09-06T12:28:51.925270700Z"
    }
   },
   "id": "c3c50885dfbe5f47"
  },
  {
   "cell_type": "code",
   "execution_count": 5,
   "outputs": [
    {
     "data": {
      "text/plain": "(28, 28)"
     },
     "execution_count": 5,
     "metadata": {},
     "output_type": "execute_result"
    }
   ],
   "source": [
    "# Check the input shape\n",
    "x_train[0].shape   "
   ],
   "metadata": {
    "collapsed": false,
    "ExecuteTime": {
     "end_time": "2023-09-06T12:28:51.983631400Z",
     "start_time": "2023-09-06T12:28:51.940891100Z"
    }
   },
   "id": "d1ad2f0128e29a0b"
  },
  {
   "cell_type": "markdown",
   "source": [
    "# Model"
   ],
   "metadata": {
    "collapsed": false
   },
   "id": "674279fcbec4964c"
  },
  {
   "cell_type": "markdown",
   "source": [
    "### Outline the model"
   ],
   "metadata": {
    "collapsed": false
   },
   "id": "ba51ffb54ae775d3"
  },
  {
   "cell_type": "code",
   "execution_count": 12,
   "outputs": [],
   "source": [
    "# Set the seed\n",
    "tf.random.set_seed(42)\n",
    "\n",
    "# Create the model\n",
    "model = tf.keras.Sequential([\n",
    "    tf.keras.layers.Flatten(input_shape=(28,28)),\n",
    "    tf.keras.layers.Dense(50, activation=\"relu\"),\n",
    "    tf.keras.layers.Dense(50, activation=\"relu\"),\n",
    "    tf.keras.layers.Dense(10, activation=\"softmax\")\n",
    "])"
   ],
   "metadata": {
    "collapsed": false,
    "ExecuteTime": {
     "end_time": "2023-09-06T12:29:39.703980200Z",
     "start_time": "2023-09-06T12:29:39.617818900Z"
    }
   },
   "id": "f7f226f2399dca68"
  },
  {
   "cell_type": "code",
   "execution_count": 13,
   "outputs": [],
   "source": [
    "# Compile the model\n",
    "model.compile(loss=tf.keras.losses.sparse_categorical_crossentropy,\n",
    "              optimizer=tf.keras.optimizers.Adam(),\n",
    "              metrics=[\"accuracy\"])"
   ],
   "metadata": {
    "collapsed": false,
    "ExecuteTime": {
     "end_time": "2023-09-06T12:29:40.188586600Z",
     "start_time": "2023-09-06T12:29:40.159021600Z"
    }
   },
   "id": "eed408639dddb1a0"
  },
  {
   "cell_type": "markdown",
   "source": [
    "### Training"
   ],
   "metadata": {
    "collapsed": false
   },
   "id": "c52e3ae1d47e1fcd"
  },
  {
   "cell_type": "code",
   "execution_count": 14,
   "outputs": [
    {
     "name": "stdout",
     "output_type": "stream",
     "text": [
      "Epoch 1/5\n",
      "1688/1688 - 2s - loss: 1.6778 - accuracy: 0.7598 - val_loss: 0.5406 - val_accuracy: 0.8747 - 2s/epoch - 1ms/step\n",
      "Epoch 2/5\n",
      "1688/1688 - 1s - loss: 0.4578 - accuracy: 0.8808 - val_loss: 0.4540 - val_accuracy: 0.8910 - 1s/epoch - 861us/step\n",
      "Epoch 3/5\n",
      "1688/1688 - 1s - loss: 0.3739 - accuracy: 0.9048 - val_loss: 0.3693 - val_accuracy: 0.9077 - 1s/epoch - 866us/step\n",
      "Epoch 4/5\n",
      "1688/1688 - 1s - loss: 0.3318 - accuracy: 0.9147 - val_loss: 0.3236 - val_accuracy: 0.9217 - 1s/epoch - 864us/step\n",
      "Epoch 5/5\n",
      "1688/1688 - 1s - loss: 0.3023 - accuracy: 0.9220 - val_loss: 0.2910 - val_accuracy: 0.9305 - 1s/epoch - 860us/step\n"
     ]
    }
   ],
   "source": [
    "# Fit the model\n",
    "history = model.fit(x_train,\n",
    "                    y_train,\n",
    "                    epochs=5,\n",
    "                    validation_data=(x_validation, y_validation),\n",
    "                    verbose=2)"
   ],
   "metadata": {
    "collapsed": false,
    "ExecuteTime": {
     "end_time": "2023-09-06T12:29:48.586087600Z",
     "start_time": "2023-09-06T12:29:40.655784800Z"
    }
   },
   "id": "a1e3aca0342bed4e"
  },
  {
   "cell_type": "markdown",
   "source": [
    "### Plot loss and accuracy curves"
   ],
   "metadata": {
    "collapsed": false
   },
   "id": "6ba39ec4a699bc71"
  },
  {
   "cell_type": "code",
   "execution_count": 21,
   "outputs": [],
   "source": [
    "import matplotlib.pyplot as plt\n",
    "def plot_loss_curves(history):\n",
    "    \"\"\"\n",
    "    Plots loss and accuracy curves form ML model\n",
    "    \n",
    "    Args:\n",
    "        history: history variable from model fit\n",
    "    \n",
    "    \"\"\"\n",
    "    # Get loss values\n",
    "    loss = history.history['loss']\n",
    "    val_loss = history.history['val_loss']\n",
    "    \n",
    "    # Get accuracy values\n",
    "    accuracy = history.history['accuracy']\n",
    "    val_accuracy = history.history['val_accuracy']\n",
    "    \n",
    "    # Get the range of epochs \n",
    "    epochs = range(len(history.history['loss']))\n",
    "    \n",
    "    # Plot loss\n",
    "    plt.plot(epochs, loss, label='Training Loss')\n",
    "    plt.plot(epochs, val_loss, label='Validation Loss')\n",
    "    plt.title(\"Loss\")\n",
    "    plt.xlabel(\"Epochs\")\n",
    "    plt.legend()\n",
    "    \n",
    "    # Plot accuracy\n",
    "    plt.figure()\n",
    "    plt.plot(epochs, accuracy, label='Training Accuracy')\n",
    "    plt.plot(epochs, val_accuracy, label='Validation Accuracy')\n",
    "    plt.title(\"Accuracy\")\n",
    "    plt.xlabel(\"Epochs\")\n",
    "    plt.legend();"
   ],
   "metadata": {
    "collapsed": false,
    "ExecuteTime": {
     "end_time": "2023-09-06T12:36:48.954078600Z",
     "start_time": "2023-09-06T12:36:48.909932600Z"
    }
   },
   "id": "169a5b6afd5ec836"
  },
  {
   "cell_type": "code",
   "execution_count": 22,
   "outputs": [
    {
     "data": {
      "text/plain": "<Figure size 640x480 with 1 Axes>",
      "image/png": "[encoded data removed]"
     },
     "metadata": {},
     "output_type": "display_data"
    },
    {
     "data": {
      "text/plain": "<Figure size 640x480 with 1 Axes>",
      "image/png": "[encoded data removed]"
     },
     "metadata": {},
     "output_type": "display_data"
    }
   ],
   "source": [
    "plot_loss_curves(history)"
   ],
   "metadata": {
    "collapsed": false,
    "ExecuteTime": {
     "end_time": "2023-09-06T12:36:55.154068800Z",
     "start_time": "2023-09-06T12:36:54.799606700Z"
    }
   },
   "id": "6b2b7e072153fd51"
  },
  {
   "cell_type": "markdown",
   "source": [
    "### Test the model"
   ],
   "metadata": {
    "collapsed": false
   },
   "id": "c200847a95f3d8e5"
  },
  {
   "cell_type": "code",
   "execution_count": 16,
   "outputs": [
    {
     "name": "stdout",
     "output_type": "stream",
     "text": [
      "313/313 [==============================] - 0s 793us/step - loss: 0.3071 - accuracy: 0.9272\n"
     ]
    }
   ],
   "source": [
    "# Evaluate the model\n",
    "test_loss, test_accuracy = model.evaluate(x_test, y_test)"
   ],
   "metadata": {
    "collapsed": false,
    "ExecuteTime": {
     "end_time": "2023-09-06T12:30:00.405645400Z",
     "start_time": "2023-09-06T12:30:00.083080600Z"
    }
   },
   "id": "52ef09197e67afff"
  },
  {
   "cell_type": "code",
   "execution_count": 17,
   "outputs": [
    {
     "name": "stdout",
     "output_type": "stream",
     "text": [
      "Test accuracy: \t92.72%\n",
      "Test loss: \t\t0.307\n"
     ]
    }
   ],
   "source": [
    "# Print the model evaluation results\n",
    "print(\"Test accuracy: \\t{:.2f}%\\nTest loss: \\t\\t{:.3f}\".format(test_accuracy*100., test_loss))"
   ],
   "metadata": {
    "collapsed": false,
    "ExecuteTime": {
     "end_time": "2023-09-06T12:30:00.969085400Z",
     "start_time": "2023-09-06T12:30:00.954066500Z"
    }
   },
   "id": "2e0354b0c00e425c"
  }
 ],
 "metadata": {
  "kernelspec": {
   "display_name": "Python 3",
   "language": "python",
   "name": "python3"
  },
  "language_info": {
   "codemirror_mode": {
    "name": "ipython",
    "version": 2
   },
   "file_extension": ".py",
   "mimetype": "text/x-python",
   "name": "python",
   "nbconvert_exporter": "python",
   "pygments_lexer": "ipython2",
   "version": "2.7.6"
  }
 },
 "nbformat": 4,
 "nbformat_minor": 5
}
